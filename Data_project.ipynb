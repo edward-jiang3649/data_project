{
    "cells": [
        {
            "cell_type": "code",
            "execution_count": 24,
            "source": [
                "\"Table 1.1\""
            ],
            "outputs": [
                {
                    "output_type": "execute_result",
                    "data": {
                        "text/plain": [
                            "'Table 1.1'"
                        ]
                    },
                    "metadata": {},
                    "execution_count": 24
                }
            ],
            "metadata": {}
        },
        {
            "cell_type": "code",
            "execution_count": 25,
            "source": [
                "import matplotlib\r\n",
                "import matplotlib.pyplot as plt\r\n",
                "import pandas as pd\r\n",
                "import numpy as np\r\n",
                "import os\r\n",
                "from datetime import datetime\r\n",
                "\r\n"
            ],
            "outputs": [],
            "metadata": {}
        },
        {
            "cell_type": "code",
            "execution_count": 26,
            "source": [
                "%matplotlib inline\r\n",
                "\r\n",
                "plt.rcParams['figure.figsize'] = (10, 5)\r\n",
                "\r\n",
                "saved_style_state = matplotlib.rcParams.copy() #give us a style state to go back to"
            ],
            "outputs": [],
            "metadata": {}
        },
        {
            "cell_type": "code",
            "execution_count": 27,
            "source": [
                "if os.path.isfile(\"airlineflights.csv\"):\r\n",
                "    filepath = \"airlineflights.csv\"\r\n",
                "    print(\"loading from file\")\r\n",
                "else:\r\n",
                "    print(\"loading from the internet\")\r\n",
                "\r\n",
                "flights = pd.read_csv(filepath)\r\n",
                "print(\"done\")"
            ],
            "outputs": [
                {
                    "output_type": "stream",
                    "name": "stdout",
                    "text": [
                        "loading from file\n",
                        "done\n"
                    ]
                }
            ],
            "metadata": {}
        },
        {
            "cell_type": "code",
            "execution_count": 28,
            "source": [
                "df = pd.read_csv(\"airlineflights.csv\")\r\n",
                "df.head(2)"
            ],
            "outputs": [
                {
                    "output_type": "execute_result",
                    "data": {
                        "text/plain": [
                            "   Month In_Out Australian_City International_City                 Airline  \\\n",
                            "0  37865      I        Adelaide           Denpasar        Garuda Indonesia   \n",
                            "1  37865      I        Adelaide          Hong Kong  Cathay Pacific Airways   \n",
                            "\n",
                            "         Route     Port_Country Port_Region  Service_Country Service_Region  \\\n",
                            "0  DPS-ADL-MEL        Indonesia     SE Asia        Indonesia        SE Asia   \n",
                            "1  HKG-ADL-MEL  Hong Kong (SAR)     NE Asia  Hong Kong (SAR)        NE Asia   \n",
                            "\n",
                            "   Stops  All_Flights  Max_Seats  Year  Month_num  \n",
                            "0      0           13       3809  2003          9  \n",
                            "1      0            8       2008  2003          9  "
                        ],
                        "text/html": [
                            "<div>\n",
                            "<style scoped>\n",
                            "    .dataframe tbody tr th:only-of-type {\n",
                            "        vertical-align: middle;\n",
                            "    }\n",
                            "\n",
                            "    .dataframe tbody tr th {\n",
                            "        vertical-align: top;\n",
                            "    }\n",
                            "\n",
                            "    .dataframe thead th {\n",
                            "        text-align: right;\n",
                            "    }\n",
                            "</style>\n",
                            "<table border=\"1\" class=\"dataframe\">\n",
                            "  <thead>\n",
                            "    <tr style=\"text-align: right;\">\n",
                            "      <th></th>\n",
                            "      <th>Month</th>\n",
                            "      <th>In_Out</th>\n",
                            "      <th>Australian_City</th>\n",
                            "      <th>International_City</th>\n",
                            "      <th>Airline</th>\n",
                            "      <th>Route</th>\n",
                            "      <th>Port_Country</th>\n",
                            "      <th>Port_Region</th>\n",
                            "      <th>Service_Country</th>\n",
                            "      <th>Service_Region</th>\n",
                            "      <th>Stops</th>\n",
                            "      <th>All_Flights</th>\n",
                            "      <th>Max_Seats</th>\n",
                            "      <th>Year</th>\n",
                            "      <th>Month_num</th>\n",
                            "    </tr>\n",
                            "  </thead>\n",
                            "  <tbody>\n",
                            "    <tr>\n",
                            "      <th>0</th>\n",
                            "      <td>37865</td>\n",
                            "      <td>I</td>\n",
                            "      <td>Adelaide</td>\n",
                            "      <td>Denpasar</td>\n",
                            "      <td>Garuda Indonesia</td>\n",
                            "      <td>DPS-ADL-MEL</td>\n",
                            "      <td>Indonesia</td>\n",
                            "      <td>SE Asia</td>\n",
                            "      <td>Indonesia</td>\n",
                            "      <td>SE Asia</td>\n",
                            "      <td>0</td>\n",
                            "      <td>13</td>\n",
                            "      <td>3809</td>\n",
                            "      <td>2003</td>\n",
                            "      <td>9</td>\n",
                            "    </tr>\n",
                            "    <tr>\n",
                            "      <th>1</th>\n",
                            "      <td>37865</td>\n",
                            "      <td>I</td>\n",
                            "      <td>Adelaide</td>\n",
                            "      <td>Hong Kong</td>\n",
                            "      <td>Cathay Pacific Airways</td>\n",
                            "      <td>HKG-ADL-MEL</td>\n",
                            "      <td>Hong Kong (SAR)</td>\n",
                            "      <td>NE Asia</td>\n",
                            "      <td>Hong Kong (SAR)</td>\n",
                            "      <td>NE Asia</td>\n",
                            "      <td>0</td>\n",
                            "      <td>8</td>\n",
                            "      <td>2008</td>\n",
                            "      <td>2003</td>\n",
                            "      <td>9</td>\n",
                            "    </tr>\n",
                            "  </tbody>\n",
                            "</table>\n",
                            "</div>"
                        ]
                    },
                    "metadata": {},
                    "execution_count": 28
                }
            ],
            "metadata": {}
        },
        {
            "cell_type": "code",
            "execution_count": 29,
            "source": [
                "flights.columns\r\n"
            ],
            "outputs": [
                {
                    "output_type": "execute_result",
                    "data": {
                        "text/plain": [
                            "Index(['Month', 'In_Out', 'Australian_City', 'International_City', 'Airline',\n",
                            "       'Route', 'Port_Country', 'Port_Region', 'Service_Country',\n",
                            "       'Service_Region', 'Stops', 'All_Flights', 'Max_Seats', 'Year',\n",
                            "       'Month_num'],\n",
                            "      dtype='object')"
                        ]
                    },
                    "metadata": {},
                    "execution_count": 29
                }
            ],
            "metadata": {}
        },
        {
            "cell_type": "code",
            "execution_count": 30,
            "source": [
                "row_one = flights.iloc[1]\r\n",
                "row_one"
            ],
            "outputs": [
                {
                    "output_type": "execute_result",
                    "data": {
                        "text/plain": [
                            "Month                                  37865\n",
                            "In_Out                                     I\n",
                            "Australian_City                     Adelaide\n",
                            "International_City                 Hong Kong\n",
                            "Airline               Cathay Pacific Airways\n",
                            "Route                            HKG-ADL-MEL\n",
                            "Port_Country                 Hong Kong (SAR)\n",
                            "Port_Region                          NE Asia\n",
                            "Service_Country              Hong Kong (SAR)\n",
                            "Service_Region                       NE Asia\n",
                            "Stops                                      0\n",
                            "All_Flights                                8\n",
                            "Max_Seats                               2008\n",
                            "Year                                    2003\n",
                            "Month_num                                  9\n",
                            "Name: 1, dtype: object"
                        ]
                    },
                    "metadata": {},
                    "execution_count": 30
                }
            ],
            "metadata": {}
        },
        {
            "cell_type": "code",
            "execution_count": 33,
            "source": [
                "row_one[\"Month\"]"
            ],
            "outputs": [
                {
                    "output_type": "execute_result",
                    "data": {
                        "text/plain": [
                            "37865"
                        ]
                    },
                    "metadata": {},
                    "execution_count": 33
                }
            ],
            "metadata": {}
        },
        {
            "cell_type": "code",
            "execution_count": 34,
            "source": [
                "row_one.Month"
            ],
            "outputs": [
                {
                    "output_type": "execute_result",
                    "data": {
                        "text/plain": [
                            "37865"
                        ]
                    },
                    "metadata": {},
                    "execution_count": 34
                }
            ],
            "metadata": {}
        },
        {
            "cell_type": "code",
            "execution_count": 37,
            "source": [
                "flights[\"Service_Country\"]"
            ],
            "outputs": [
                {
                    "output_type": "execute_result",
                    "data": {
                        "text/plain": [
                            "0               Indonesia\n",
                            "1         Hong Kong (SAR)\n",
                            "2                Malaysia\n",
                            "3               Singapore\n",
                            "4               Singapore\n",
                            "               ...       \n",
                            "105940              Japan\n",
                            "105941              Japan\n",
                            "105942        New Zealand\n",
                            "105943        New Zealand\n",
                            "105944              China\n",
                            "Name: Service_Country, Length: 105945, dtype: object"
                        ]
                    },
                    "metadata": {},
                    "execution_count": 37
                }
            ],
            "metadata": {}
        },
        {
            "cell_type": "code",
            "execution_count": 40,
            "source": [
                "flights[\"Max_Seats\"].plot()"
            ],
            "outputs": [
                {
                    "output_type": "execute_result",
                    "data": {
                        "text/plain": [
                            "<AxesSubplot:>"
                        ]
                    },
                    "metadata": {},
                    "execution_count": 40
                },
                {
                    "output_type": "display_data",
                    "data": {
                        "text/plain": [
                            "<Figure size 720x360 with 1 Axes>"
                        ],
                        "image/png": "[encoded data removed]"
                    },
                    "metadata": {
                        "needs_background": "light"
                    }
                }
            ],
            "metadata": {}
        },
        {
            "cell_type": "code",
            "execution_count": 41,
            "source": [
                "flights[\"Max_Seats\"].hist()"
            ],
            "outputs": [
                {
                    "output_type": "execute_result",
                    "data": {
                        "text/plain": [
                            "<AxesSubplot:>"
                        ]
                    },
                    "metadata": {},
                    "execution_count": 41
                },
                {
                    "output_type": "display_data",
                    "data": {
                        "text/plain": [
                            "<Figure size 720x360 with 1 Axes>"
                        ],
                        "image/png": "[encoded data removed]"
                    },
                    "metadata": {
                        "needs_background": "light"
                    }
                }
            ],
            "metadata": {}
        },
        {
            "cell_type": "code",
            "execution_count": null,
            "source": [
                "df.drop([0], axis=0, inplace=True)\r\n",
                "df[\"\"].hist() #histogram"
            ],
            "outputs": [],
            "metadata": {}
        },
        {
            "cell_type": "code",
            "execution_count": null,
            "source": [
                "[\"FACE_VALUE\"].hist()"
            ],
            "outputs": [],
            "metadata": {}
        }
    ],
    "metadata": {
        "orig_nbformat": 4,
        "language_info": {
            "name": "python"
        }
    },
    "nbformat": 4,
    "nbformat_minor": 2
}